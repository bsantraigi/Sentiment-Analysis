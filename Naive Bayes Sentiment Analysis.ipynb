{
 "cells": [
  {
   "cell_type": "code",
   "execution_count": 1,
   "metadata": {},
   "outputs": [],
   "source": [
    "data_folder = 'data/aclImdb/'"
   ]
  },
  {
   "cell_type": "code",
   "execution_count": 21,
   "metadata": {},
   "outputs": [],
   "source": [
    "import os\n",
    "from collections import Counter, defaultdict\n",
    "import nltk\n",
    "import re\n",
    "from tqdm import tqdm_notebook\n",
    "import numpy as np"
   ]
  },
  {
   "cell_type": "code",
   "execution_count": 4,
   "metadata": {},
   "outputs": [],
   "source": [
    "rp = os.path.join(data_folder, 'train/pos')\n",
    "train_positive = [os.path.join(rp, f) for f in os.listdir(rp)]\n",
    "rp = os.path.join(data_folder, 'train/neg')\n",
    "train_negative = [os.path.join(rp, f) for f in os.listdir(rp)]\n",
    "\n",
    "rp = os.path.join(data_folder, 'test/pos')\n",
    "test_positive = [os.path.join(rp, f) for f in os.listdir(rp)]\n",
    "rp = os.path.join(data_folder, 'test/neg')\n",
    "test_negative = [os.path.join(rp, f) for f in os.listdir(rp)]"
   ]
  },
  {
   "cell_type": "markdown",
   "metadata": {},
   "source": [
    "### \n",
    "\n",
    "- Document $d = w_1w_2...w_n$, where $w_i$ are the tokens of the document and $n$ is the total number of tokens in the document $d$.\n",
    "\n",
    "- Dataset is ${d_i, s_i}$\n",
    "\n",
    "- Each document d_i is associated with sentiment $s_i \\in \\{0,1\\}$, $0$ being negative sentiment and $1$ being positive sentiment.\n",
    "\n",
    "- $p(s|doc) = \\frac{p(doc|s)p(s)}{p(doc|s)p(s) + p(doc|\\bar{s})p(\\bar{s})}$\n",
    "\n",
    "- $p(d|s) = p(w_1,w_2,..., w_n|s) = p(w_1|s)p(w_2|s)...p(w_n|s)$\n",
    "\n",
    "- We have $p(s) = 0.5$ and $p(\\bar{s})=0.5$.\n",
    "\n",
    "- $ p(s|d) = \\frac{p(d|s)}{p(d|s) + p(d|\\bar{s})} $\n",
    "\n",
    "- If we assign threshold of $p_T(s|d) = 0.5$ for deciding the final label, the model simplifies to,\n",
    " -  $y=1$ if $p(d|s=1) \\geq p(d|s=0)$.\n",
    "\n",
    "-----------\n",
    "- For numerical stability, we will convert the probabilities to log probability,\n",
    " - $\\log p(d|s) = \\log p(w_1,w_2,..., w_n|s) = \\log p(w_1|s) + \\log p(w_2|s) + ...+ \\log p(w_n|s)$"
   ]
  },
  {
   "cell_type": "code",
   "execution_count": 5,
   "metadata": {},
   "outputs": [],
   "source": [
    "re_html_cleaner = re.compile(r\"<.*?>\")"
   ]
  },
  {
   "cell_type": "code",
   "execution_count": 6,
   "metadata": {},
   "outputs": [
    {
     "data": {
      "application/vnd.jupyter.widget-view+json": {
       "model_id": "58f6c3b6e6cd41498ba9ae9f47bf1aeb",
       "version_major": 2,
       "version_minor": 0
      },
      "text/plain": [
       "HBox(children=(IntProgress(value=0, max=12500), HTML(value='')))"
      ]
     },
     "metadata": {},
     "output_type": "display_data"
    },
    {
     "name": "stdout",
     "output_type": "stream",
     "text": [
      "\n"
     ]
    }
   ],
   "source": [
    "positive_word_counts = Counter()\n",
    "\n",
    "for _fname in tqdm_notebook(train_positive):\n",
    "    with open(_fname) as f:\n",
    "        text = f.read().strip()\n",
    "        text = re_html_cleaner.sub(\" \", text)\n",
    "        positive_word_counts += Counter(nltk.word_tokenize(text))"
   ]
  },
  {
   "cell_type": "code",
   "execution_count": 7,
   "metadata": {},
   "outputs": [
    {
     "data": {
      "application/vnd.jupyter.widget-view+json": {
       "model_id": "3b69b5abec964a15b75e1e39fa24b927",
       "version_major": 2,
       "version_minor": 0
      },
      "text/plain": [
       "HBox(children=(IntProgress(value=0, max=12500), HTML(value='')))"
      ]
     },
     "metadata": {},
     "output_type": "display_data"
    },
    {
     "name": "stdout",
     "output_type": "stream",
     "text": [
      "\n"
     ]
    }
   ],
   "source": [
    "negative_word_counts = Counter()\n",
    "\n",
    "for _fname in tqdm_notebook(train_negative):\n",
    "    with open(_fname) as f:\n",
    "        text = f.read().strip()\n",
    "        text = re_html_cleaner.sub(\" \", text)\n",
    "        negative_word_counts += Counter(nltk.word_tokenize(text))"
   ]
  },
  {
   "cell_type": "code",
   "execution_count": 27,
   "metadata": {},
   "outputs": [],
   "source": [
    "len_corpus_pos = sum(positive_word_counts.values())\n",
    "len_corpus_neg = sum(negative_word_counts.values())\n",
    "epsilon = 0.1\n",
    "log_p_vocab_pos = defaultdict(lambda: np.log(epsilon/len_corpus_pos), {w:np.log(c/len_corpus_pos) for w,c in positive_word_counts.items()})\n",
    "log_p_vocab_neg = defaultdict(lambda: np.log(epsilon/len_corpus_neg), {w:np.log(c/len_corpus_neg) for w,c in negative_word_counts.items()})"
   ]
  },
  {
   "cell_type": "code",
   "execution_count": 31,
   "metadata": {},
   "outputs": [],
   "source": [
    "p_data_pos = len(train_positive)/(len(train_positive) + len(train_negative))"
   ]
  },
  {
   "cell_type": "code",
   "execution_count": 32,
   "metadata": {},
   "outputs": [],
   "source": [
    "def get_prob_pos(doc):\n",
    "    text = doc.strip()\n",
    "    text = re_html_cleaner.sub(\" \", text)\n",
    "    tokens = nltk.word_tokenize(text)\n",
    "    p_pos = 1\n",
    "    p_neg = 1\n",
    "    for token in tokens:\n",
    "        p_pos += log_p_vocab_pos[token]\n",
    "        p_neg += log_p_vocab_neg[token]\n",
    "        \n",
    "    return 1.0*(p_pos > p_neg) #/(p_pos+p_neg)"
   ]
  },
  {
   "cell_type": "code",
   "execution_count": 37,
   "metadata": {},
   "outputs": [
    {
     "data": {
      "application/vnd.jupyter.widget-view+json": {
       "model_id": "78cc213311c74521a1f73c8d45b7e22d",
       "version_major": 2,
       "version_minor": 0
      },
      "text/plain": [
       "HBox(children=(IntProgress(value=0, max=12500), HTML(value='')))"
      ]
     },
     "metadata": {},
     "output_type": "display_data"
    },
    {
     "name": "stdout",
     "output_type": "stream",
     "text": [
      "\n"
     ]
    },
    {
     "data": {
      "application/vnd.jupyter.widget-view+json": {
       "model_id": "d4fc80a844c143b2bee894ed64879cb8",
       "version_major": 2,
       "version_minor": 0
      },
      "text/plain": [
       "HBox(children=(IntProgress(value=0, max=12500), HTML(value='')))"
      ]
     },
     "metadata": {},
     "output_type": "display_data"
    },
    {
     "name": "stdout",
     "output_type": "stream",
     "text": [
      "\n"
     ]
    }
   ],
   "source": [
    "results = []\n",
    "for _fname in tqdm_notebook(test_positive):\n",
    "    with open(_fname) as f:\n",
    "        results.append((1, get_prob_pos(f.read())))\n",
    "        \n",
    "\n",
    "for _fname in tqdm_notebook(test_negative):\n",
    "    with open(_fname) as f:\n",
    "        results.append((0, get_prob_pos(f.read())))"
   ]
  },
  {
   "cell_type": "code",
   "execution_count": 39,
   "metadata": {},
   "outputs": [],
   "source": [
    "true_pos = 0\n",
    "false_pos = 0\n",
    "true_neg = 0\n",
    "false_neg = 0\n",
    "for true_label, pred_label in results:\n",
    "    if true_label == 1 and pred_label == 1:\n",
    "        true_pos += 1\n",
    "    elif true_label == 1 and pred_label == 0:\n",
    "        false_neg += 1\n",
    "    elif true_label == 0 and pred_label == 1:\n",
    "        false_pos += 1\n",
    "    elif true_label == 0 and pred_label == 0:\n",
    "        true_neg += 1"
   ]
  },
  {
   "cell_type": "code",
   "execution_count": 41,
   "metadata": {},
   "outputs": [
    {
     "name": "stdout",
     "output_type": "stream",
     "text": [
      "Accuracy: 0.80188\n",
      "Recall: 0.73576\n"
     ]
    }
   ],
   "source": [
    "print(f\"Accuracy: {(true_pos + true_neg)/(true_pos + true_neg + false_pos + false_neg)}\")\n",
    "print(f\"Recall: {(true_pos)/(true_pos + false_neg)}\")\n",
    "print(f\"Precision: {(true_pos + true_neg)/(true_pos + false_pos + false_neg)}\")"
   ]
  },
  {
   "cell_type": "code",
   "execution_count": null,
   "metadata": {},
   "outputs": [],
   "source": []
  }
 ],
 "metadata": {
  "kernelspec": {
   "display_name": "Python (base)",
   "language": "python",
   "name": "base"
  },
  "language_info": {
   "codemirror_mode": {
    "name": "ipython",
    "version": 3
   },
   "file_extension": ".py",
   "mimetype": "text/x-python",
   "name": "python",
   "nbconvert_exporter": "python",
   "pygments_lexer": "ipython3",
   "version": "3.7.3"
  }
 },
 "nbformat": 4,
 "nbformat_minor": 2
}
